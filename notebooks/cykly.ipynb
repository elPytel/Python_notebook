{
 "cells": [
  {
   "cell_type": "markdown",
   "metadata": {},
   "source": [
    "# Cykly\n",
    "Cyklus je konstrukce, která umožňuje opakovat nějaký kód. V Pythonu existují dva základní druhy cyklů:\n",
    "- cyklus `for`,\n",
    "- cyklus `while`."
   ]
  },
  {
   "cell_type": "markdown",
   "metadata": {},
   "source": [
    "## Cyklus `for`"
   ]
  },
  {
   "cell_type": "code",
   "execution_count": null,
   "metadata": {},
   "outputs": [],
   "source": [
    "for i in range(1, 10):\n",
    "    print(i)"
   ]
  },
  {
   "cell_type": "markdown",
   "metadata": {},
   "source": [
    "## Cyklus `while`"
   ]
  },
  {
   "cell_type": "code",
   "execution_count": null,
   "metadata": {},
   "outputs": [],
   "source": [
    "i = 1\n",
    "while i < 10:\n",
    "    print(i)\n",
    "    i += 1"
   ]
  },
  {
   "cell_type": "markdown",
   "metadata": {},
   "source": [
    "## Tiskneme opakovaně\n",
    "Já vím tisknout stromečky je nuda, ale co se dá dělat, když ještě neumí pracovat s listy a funkcemi. "
   ]
  },
  {
   "cell_type": "code",
   "execution_count": null,
   "metadata": {},
   "outputs": [],
   "source": [
    "print(\"******\")"
   ]
  },
  {
   "cell_type": "markdown",
   "metadata": {},
   "source": [
    "### Co dál?\n",
    "Můžeme například tisknout řádek znaků s proměnlivou délkou.\n",
    "\n",
    "Když upravíme funkci print, tak že do jejiho argumentu přidáme `end=''`, tak se znaky nebudou tisknout na nový řádek, ale za sebou."
   ]
  },
  {
   "cell_type": "code",
   "execution_count": null,
   "metadata": {},
   "outputs": [],
   "source": [
    "character = \"*\"\n",
    "start_from = 1\n",
    "end_at = 10\n",
    "step = 2\n",
    "\n",
    "for _ in range(start_from, end_at, step):\n",
    "    print(character, end=\"\")"
   ]
  },
  {
   "cell_type": "markdown",
   "metadata": {},
   "source": [
    "Proč mámě hvězdiček jenom 5? A né 10? \n",
    "Zamyslete se, jak byste to mohli změnit."
   ]
  },
  {
   "cell_type": "markdown",
   "metadata": {},
   "source": [
    "### Cool, cool, cool\n",
    "Já chci čtverec!"
   ]
  },
  {
   "cell_type": "code",
   "execution_count": null,
   "metadata": {},
   "outputs": [],
   "source": [
    "character = \"*\"\n",
    "start_from = 0\n",
    "end_at = 4\n",
    "step = 1\n",
    "\n",
    "for _ in range(start_from, end_at, step):\n",
    "    print(character, end=\"\")\n",
    "print() # print a newline character\n",
    "for _ in range(start_from, end_at, step):\n",
    "    print(character, end=\"\")\n",
    "print()\n",
    "for _ in range(start_from, end_at, step):\n",
    "    print(character, end=\"\")\n",
    "print()\n",
    "for _ in range(start_from, end_at, step):\n",
    "    print(character, end=\"\")\n",
    "print()"
   ]
  },
  {
   "cell_type": "markdown",
   "metadata": {},
   "source": [
    "Ale, jo když člověk trochu přimhouří oči, tak je to čtverec. \n",
    "\n",
    "Ale co když bych chtěl čtverec, který bude mít stranu 5 hvězdiček?\n",
    "Nebo 15? Tak to bych musel upravit kód. \n",
    "Ctrl+c, Ctrl+v a upravit. Ale to je dost neefektivní.\n",
    "\n",
    "My ale umíme psát fory! Tak je použijeme."
   ]
  },
  {
   "cell_type": "code",
   "execution_count": null,
   "metadata": {},
   "outputs": [],
   "source": [
    "number_of_lines = 4\n",
    "number_of_columns = 4\n",
    "\n",
    "for _ in range(number_of_lines):\n",
    "    for _ in range(number_of_columns):\n",
    "        print(character, end=\"\")\n",
    "    print()"
   ]
  },
  {
   "cell_type": "markdown",
   "metadata": {},
   "source": [
    "To je hned lepší, přehlednejší a kratší. A co víc! Můžeme teď měnit rozměry čtverce a nebo z něj udělat obdélník."
   ]
  },
  {
   "cell_type": "markdown",
   "metadata": {},
   "source": [
    "## Uloha\n",
    "Vytiskněte trojúhelník s výškou 5.\n",
    "\n",
    "Například nějak takhle:\n",
    "```Bash\n",
    "*\n",
    "**\n",
    "***\n",
    "****\n",
    "*****\n",
    "```\n"
   ]
  },
  {
   "cell_type": "code",
   "execution_count": null,
   "metadata": {},
   "outputs": [],
   "source": []
  },
  {
   "cell_type": "markdown",
   "metadata": {},
   "source": [
    "Že ne víte jak?\n",
    "Tak zkuste jet po řádcích a počítat hvězdičky.\n",
    "1. Řádek: 1 hvězdička,\n",
    "2. Řádek: 2 hvězdičky,\n",
    "3. Řádek: 3 hvězdičky,\n",
    "4. ...\n",
    "\n",
    "Z toho by se dala vypozorovat nějaké závislost ne?"
   ]
  }
 ],
 "metadata": {
  "kernelspec": {
   "display_name": "Python 3",
   "language": "python",
   "name": "python3"
  },
  "language_info": {
   "codemirror_mode": {
    "name": "ipython",
    "version": 3
   },
   "file_extension": ".py",
   "mimetype": "text/x-python",
   "name": "python",
   "nbconvert_exporter": "python",
   "pygments_lexer": "ipython3",
   "version": "3.11.9"
  }
 },
 "nbformat": 4,
 "nbformat_minor": 2
}
