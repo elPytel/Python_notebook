{
 "cells": [
  {
   "cell_type": "markdown",
   "metadata": {},
   "source": [
    "# Funkce"
   ]
  },
  {
   "cell_type": "markdown",
   "metadata": {},
   "source": [
    "Uvedem si pár příkladů funkcí. Začneme u těch matematických, protože počítače byli stvořeny k tomu, jak již jejich název napovídá, aby se s nimi počítalo. "
   ]
  },
  {
   "cell_type": "markdown",
   "metadata": {},
   "source": [
    "## Matematické funkce\n",
    "jedny z prvních funkcí, se kterými se v matematice setkáme je popis lineární závislosti. \n",
    "\n",
    "Jak by nám řekli matematici, kdyby jsme se nějakého zeptali:\n",
    "\n",
    "> Funkce je zobrazení, které každému prvku z jedné množiny přiřazuje právě jeden prvek z druhé množiny. Funkce se značí $f(x)$, kde $x$ je argument funkce. Funkce může být definována různými způsoby. Například můžeme definovat funkci $f(x) = 2x + 3$. Tato funkce je lineární a její graf je přímka.\n",
    "\n",
    "Nám bohatě stačí vědět že linární funkce má takovýto tvar:\n",
    "$$f(x) = kx + q$$\n",
    "kde:\n",
    "- $k$ je koeficient směru,\n",
    "- $q$ je posunutí ve vertikálním směru.\n",
    "\n",
    "Když si budeme přát znát hodnotu funkce pro nějaké $x$, tak jednoduše dosadíme do funkce $f(x)$ hodnotu $x$ a dostaneme výsledek:\n",
    "$$\n",
    "y = f(x) \n",
    "$$\n",
    "$$\n",
    "y = kx + q\n",
    "$$\n",
    "\n",
    "Pojdmě si tedy takovou funkci zkusit naprogramovat v Pythonu."
   ]
  },
  {
   "cell_type": "code",
   "execution_count": 26,
   "metadata": {},
   "outputs": [],
   "source": [
    "def linear_func(x, k, q):\n",
    "    y = k * x + q\n",
    "    return y"
   ]
  },
  {
   "cell_type": "markdown",
   "metadata": {},
   "source": [
    "Výhoda Jupyter notebooku je kromě jiného v tom, že nám umožnuje spouštět kód i v příkazové řádce operačního systému. Když na importujeme knihovnu `sys` - systémové knihovny, tak můžeme spustit příkazovou řádku a nainstalovat knihovnu `matplotlib` pro kreslení grafů."
   ]
  },
  {
   "cell_type": "code",
   "execution_count": null,
   "metadata": {},
   "outputs": [],
   "source": [
    "# instalace knihovny matplotlib\n",
    "import sys\n",
    "!{sys.executable} -m pip install matplotlib"
   ]
  },
  {
   "cell_type": "markdown",
   "metadata": {},
   "source": [
    "Teď budeme trochu kouzlit a s pomocí knihovny `matplotlib` si vykreslíme graf naší funkce."
   ]
  },
  {
   "cell_type": "code",
   "execution_count": 40,
   "metadata": {},
   "outputs": [],
   "source": [
    "import matplotlib.pyplot as plt\n",
    "\n",
    "def generate_data(x_min, x_max, step):\n",
    "    \"\"\"\n",
    "    Funkce nan vygeneruje seznam hodnot x od x_min do x_max s krokem step.\n",
    "    \"\"\"\n",
    "    x = []\n",
    "    while x_min <= x_max:\n",
    "        x.append(x_min)\n",
    "        x_min += step\n",
    "    return x\n",
    "\n",
    "def plot_func(x, y):\n",
    "    \"\"\"\n",
    "    Funkce vykresli graf zavislosti y na x.\n",
    "    \"\"\"\n",
    "    plt.plot(x, y)\n",
    "    plt.xlabel('x')\n",
    "    plt.ylabel('y')\n",
    "    plt.title('Function')\n",
    "    plt.show()"
   ]
  },
  {
   "cell_type": "code",
   "execution_count": null,
   "metadata": {},
   "outputs": [],
   "source": [
    "# definice parametru funkce\n",
    "k = 2\n",
    "q = 1\n",
    "x_min = -10\n",
    "x_max = 10\n",
    "step = 0.1\n",
    "\n",
    "# vygenerovani hodnot x a y\n",
    "x = generate_data(x_min, x_max, step)\n",
    "y = []\n",
    "for x_val in x:\n",
    "    y_value = linear_func(x_val, k, q)\n",
    "    y.append(y_value)\n",
    "\n",
    "plot_func(x, y)"
   ]
  },
  {
   "cell_type": "markdown",
   "metadata": {},
   "source": [
    "### Kvadratická funkce\n",
    "Další funkce, kterou si ukážeme je kvadratická funkce. Kvadratická funkce má tvar:\n",
    "$$\n",
    "f(x) = ax^2 + bx + c\n",
    "$$\n",
    "\n",
    "Kde:\n",
    "- $a$ je koeficient kvadratického členu,\n",
    "- $b$ je koeficient lineárního členu,\n",
    "- $c$ je konstanta (posunutí ve vertikálním směru).\n",
    "\n",
    "Zkuste si jí naprogramovat sami a vykreslit graf."
   ]
  },
  {
   "cell_type": "code",
   "execution_count": null,
   "metadata": {},
   "outputs": [],
   "source": []
  },
  {
   "cell_type": "markdown",
   "metadata": {},
   "source": [
    "## Ne zas tak matematické funkce\n",
    "Funkce v pragramech nemusejí být vůbec o matematice a mohou dělat například věci, které se týkají textu, nebo nám nějak usnadnují práci."
   ]
  },
  {
   "cell_type": "code",
   "execution_count": 50,
   "metadata": {},
   "outputs": [],
   "source": [
    "def moje_funkce(x):\n",
    "    y = \"!johA ďoL\"\n",
    "    [print(y[::-1]) for i in range(x)]"
   ]
  },
  {
   "cell_type": "markdown",
   "metadata": {},
   "source": [
    "Co by tak takováto funkce mohla dělat?\n",
    "\n",
    "Když si ji spustíte, tak vám vrátí výsledek."
   ]
  },
  {
   "cell_type": "code",
   "execution_count": null,
   "metadata": {},
   "outputs": [],
   "source": [
    "moje_funkce(5)"
   ]
  },
  {
   "cell_type": "markdown",
   "metadata": {},
   "source": [
    "Asi vám nedá příliš zabrat dovtípit se, že jde o námořnický pozdrav a že se jeho vypsání provede tolikrát, kolikrát je zadáno v parametru `x`.\n",
    "\n",
    "Musíme však uznat, že nejde zrovna o hezkou funkci. Není na první pohled vidět, co dělá. Pojďmě proto refaktorovat stávajicí kód."
   ]
  },
  {
   "cell_type": "code",
   "execution_count": 24,
   "metadata": {},
   "outputs": [],
   "source": [
    "def namornicky_pozdrav(n_krat: int) -> None:\n",
    "    for _ in range(n_krat):\n",
    "        print(\"Loď Ahoj!\")"
   ]
  },
  {
   "cell_type": "markdown",
   "metadata": {},
   "source": [
    "Přejnenovali jsme ji na `namornicky_pozdrav` a jeji argument jsme přejmenovali na `n_krat`. Nyní je na první pohled mnohem jasnější, co funkce dělá."
   ]
  },
  {
   "cell_type": "code",
   "execution_count": null,
   "metadata": {},
   "outputs": [],
   "source": [
    "namornicky_pozdrav(n_krat=3)"
   ]
  },
  {
   "cell_type": "markdown",
   "metadata": {},
   "source": [
    "## Výpocet kořenů kvadratické rovnice\n",
    "Kvadratické rovnice:\n",
    "$$\n",
    "f(x) = ax^2 + bx + c\n",
    "$$\n",
    "\n",
    "Výpočet kořenů kvadratické rovnice je dán vzorcem:\n",
    "$$\n",
    "x_{1,2} = \\frac{-b \\pm \\sqrt{b^2 - 4ac}}{2a}\n",
    "$$\n",
    "\n",
    "Tak si ho zkusíme naprogramovat v jazyce Python."
   ]
  },
  {
   "cell_type": "code",
   "execution_count": 1,
   "metadata": {},
   "outputs": [],
   "source": [
    "def solve_quadratic(a, b, c):\n",
    "    x1 = (-b + (b ** 2 - 4 * a * c) ** 0.5) / (2 * a)\n",
    "    x2 = (-b - (b ** 2 - 4 * a * c) ** 0.5) / (2 * a)\n",
    "    return x1, x2"
   ]
  },
  {
   "cell_type": "markdown",
   "metadata": {},
   "source": [
    "Funkce má argumenty:\n",
    "- $a$, \n",
    "- $b$,\n",
    "- $c$\n",
    "\n",
    "A vrací dva kořeny:\n",
    "- $x_1$,\n",
    "- $x_2$.\n",
    "\n",
    "Python umožnuje použít notaci `**` pro umocnění. Pokuk však použijeme mocnitele menší než 1, tak defakto odmocňujeme. \n",
    "\n",
    "Kód je docela složití a nemusíme si proto být jistí, že je správný.\n",
    "\n",
    "Pojďme si ji otestovat na pár případech."
   ]
  },
  {
   "cell_type": "code",
   "execution_count": null,
   "metadata": {},
   "outputs": [],
   "source": [
    "# (x-1)(x-3) = x^2 - 4x + 3\n",
    "a = 1\n",
    "b = -4\n",
    "c = 3\n",
    "x1, x2 = solve_quadratic(a, b, c)\n",
    "print(x1, x2)  # expect 3.0, 1.0\n",
    "\n",
    "# (x+1)(x+1) = x^2 + 2x + 1\n",
    "a = 1\n",
    "b = 2\n",
    "c = 1\n",
    "x1, x2 = solve_quadratic(a, b, c)\n",
    "print(x1, x2)  # expect -1.0, -1.0\n",
    "\n",
    "# komplexni koreny\n",
    "# x^2 + 2x + 2 = 0\n",
    "a = 1\n",
    "b = 2\n",
    "c = 2\n",
    "x1, x2 = solve_quadratic(a, b, c)\n",
    "print(x1, x2)"
   ]
  },
  {
   "cell_type": "markdown",
   "metadata": {},
   "source": [
    "Python je naštěstí dostatečně silný nástroj, takže zvládá i komplexní čísla bez použití externích knihoven. Pokud bychom však chtěli dopředu zjistit zda bude uloha řešitelná v reálných číslech, můžeme použít diskriminant:\n",
    "$$\n",
    "D = b^2 - 4ac\n",
    "$$"
   ]
  },
  {
   "cell_type": "code",
   "execution_count": 13,
   "metadata": {},
   "outputs": [],
   "source": [
    "def discriminant(a, b, c):\n",
    "    return b ** 2 - 4 * a * c\n",
    "\n",
    "def solve_quadratic(a, b, c):\n",
    "    d = discriminant(a, b, c)\n",
    "    if d < 0:\n",
    "        return None, None\n",
    "    x1 = (-b + d ** 0.5) / (2 * a)\n",
    "    x2 = (-b - d ** 0.5) / (2 * a)\n",
    "    return x1, x2"
   ]
  },
  {
   "cell_type": "markdown",
   "metadata": {},
   "source": [
    "Nemáme importovanou knihovnu `math`, takže nemůžeme použít funkci `sqrt`. Pro přehlednost si ji však můžeme definovat sami."
   ]
  },
  {
   "cell_type": "code",
   "execution_count": 12,
   "metadata": {},
   "outputs": [],
   "source": [
    "def sqrt(x):\n",
    "    \"\"\"\n",
    "    Vrati odmocninu z x.\n",
    "    \"\"\"\n",
    "    return x ** 0.5"
   ]
  },
  {
   "cell_type": "markdown",
   "metadata": {},
   "source": [
    "Kod je pořád poměrně složití a proto jej refaktorujeme ještě více a doplněníme o: \n",
    "- komentáře,\n",
    "- typy.\n",
    "\n",
    "Typy jsou v Pythonu nepovinné, ale mohou nám pomoci s přehledností a s debugováním. "
   ]
  },
  {
   "cell_type": "code",
   "execution_count": 19,
   "metadata": {},
   "outputs": [],
   "source": [
    "def solve_quadratic(a:float, b:float, c:float) -> tuple:\n",
    "    \"\"\"\n",
    "    Vypocita koreny kvadraticke rovnice a*x^2 + b*x + c = 0.\n",
    "\n",
    "    Args:\n",
    "        a (float): koeficient u x^2\n",
    "        b (float): koeficient u x\n",
    "        c (float): konstantni clen\n",
    "\n",
    "    Returns:\n",
    "        tuple: koreny rovnice (x1, x2), pokud existuji. Pokud nema rovnice reseni v R, vrati (None, None).\n",
    "    \"\"\"\n",
    "    d = discriminant(a, b, c)\n",
    "    if d < 0:   # complex solution\n",
    "        return None, None\n",
    "    x1 = (-b + sqrt(d)) / (2 * a)\n",
    "    x2 = (-b - sqrt(d)) / (2 * a)\n",
    "    return x1, x2"
   ]
  },
  {
   "cell_type": "code",
   "execution_count": null,
   "metadata": {},
   "outputs": [],
   "source": [
    "# (x-1)(x-3) = x^2 - 4x + 3\n",
    "a = 1\n",
    "b = -4\n",
    "c = 3\n",
    "x1, x2 = solve_quadratic(a, b, c)\n",
    "print(x1, x2)  # expect 3.0, 1.0\n",
    "\n",
    "# (x+1)(x+1) = x^2 + 2x + 1\n",
    "a = 1\n",
    "b = 2\n",
    "c = 1\n",
    "x1, x2 = solve_quadratic(a, b, c)\n",
    "print(x1, x2)  # expect -1.0, -1.0\n",
    "\n",
    "# komplexni koreny\n",
    "# x^2 + 2x + 2 = 0\n",
    "a = 1\n",
    "b = 2\n",
    "c = 2\n",
    "x1, x2 = solve_quadratic(a, b, c)\n",
    "print(x1, x2)"
   ]
  },
  {
   "cell_type": "markdown",
   "metadata": {},
   "source": [
    "Nyní jsme získali možnost vyskakovaní okna s dokumentací při najetí myši na funkce. Ta nám radí jaké funkce očekává typy argumentů, co vrací a ve zkratce nám řekne co by měla dělat.\n",
    "\n",
    "Všimněte si si že komentář k funkci je delší než samotná funkce. To je v pořádku, protože je to dokumentační komentář a je určený pro lidi, kteří budou funkci používat. Zobrazí se nám při použití funkce, nemusíme se dívat na její implementaci, pokud je skrytá v jiném souboru. Stačí nám věřit programátorovi, který funkci napsal a komentář s návodem k jejímu použití vytvořil.\n",
    "\n",
    "Při generování dokumentace můžeme využít právě těchto komentářů. Není potřeba zvlášť psát dokumentaci, pokud je komentář k funkci dostatečně podrobný. \n",
    "To zajistí, že při další refaktorizaci kódu stačí upravit i komentář tak aby representoval nový stav kódu a dokumentace bude vždy aktuální."
   ]
  },
  {
   "cell_type": "markdown",
   "metadata": {},
   "source": [
    "## Tvoje vlastní funkce\n",
    "Představivosti se meze nekladou, tak si zkuste napsat nějaké vlastní funkce."
   ]
  },
  {
   "cell_type": "code",
   "execution_count": null,
   "metadata": {},
   "outputs": [],
   "source": []
  }
 ],
 "metadata": {
  "kernelspec": {
   "display_name": "Python 3",
   "language": "python",
   "name": "python3"
  },
  "language_info": {
   "codemirror_mode": {
    "name": "ipython",
    "version": 3
   },
   "file_extension": ".py",
   "mimetype": "text/x-python",
   "name": "python",
   "nbconvert_exporter": "python",
   "pygments_lexer": "ipython3",
   "version": "3.11.9"
  }
 },
 "nbformat": 4,
 "nbformat_minor": 2
}
