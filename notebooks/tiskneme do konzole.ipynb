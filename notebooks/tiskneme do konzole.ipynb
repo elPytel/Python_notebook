{
 "cells": [
  {
   "cell_type": "markdown",
   "metadata": {},
   "source": [
    "# Tiskneme do konzole\n",
    "\n",
    "Jdeme programovat! Co by ale vlastně náš program mohl dělat? \n",
    "Nejednodužší úkon při programování je tisk do konzole. Je to jednoduché, každý moderní programovací  jazyk to umí. A vě většině úloh se bez toho neobejdeme."
   ]
  },
  {
   "cell_type": "code",
   "execution_count": null,
   "metadata": {},
   "outputs": [],
   "source": [
    "print(\"Ahoj!\")"
   ]
  },
  {
   "cell_type": "markdown",
   "metadata": {},
   "source": [
    "K programu je dobrým zvykem psát komentář, aby náš neznalý kolega (neznalí ne protože neumí programovat, ale protože píše v *Rustu* a *Go*, zatímco mi v *Pythonu* a tak trochu ztrácí v rozdílné syntaxi našeho jazyke) měl snazší práci se zorientovat v tom, co program vykonává."
   ]
  },
  {
   "cell_type": "code",
   "execution_count": null,
   "metadata": {},
   "outputs": [],
   "source": [
    "print(\"Ahoj!\") # tento radek obsahje 'print()' - tiskne do konzole pozdrav"
   ]
  },
  {
   "cell_type": "markdown",
   "metadata": {},
   "source": [
    "Zkuste si ozkoušet také výpis do konzole."
   ]
  },
  {
   "cell_type": "code",
   "execution_count": null,
   "metadata": {},
   "outputs": [],
   "source": []
  },
  {
   "cell_type": "markdown",
   "metadata": {},
   "source": [
    "## Více řádkový komentář\n",
    "\n",
    "Python umožnujě také psát více řádkové komentáře. Je slušností na začátek **každého** programu napsat:\n",
    "- kdo je jeho **autorem** (komu poděkovat, nebo kdo za to může),\n",
    "- **kdy** byl program napsán (pokud máme na disku více verzí, tak která je nejnovější?),\n",
    "- proč byl progam vytvořen a **co dělá**."
   ]
  },
  {
   "cell_type": "code",
   "execution_count": null,
   "metadata": {},
   "outputs": [],
   "source": [
    "\"\"\"\n",
    "Autor: Pytel\n",
    "Datum: 29.10.2024\n",
    "Popis: Tento skript vypise pozdrav\n",
    "\"\"\"\n",
    "\n",
    "# Toto je komentar\n",
    "print(\"Ahoj!\")"
   ]
  },
  {
   "cell_type": "markdown",
   "metadata": {},
   "source": [
    "## Barevný výstup\n",
    "Tisknout v černé/bílé barvě je nuda! Ale programátoři nejsou vůbec nudní! Takže přidáme nějaké barvičky do našeho programu."
   ]
  },
  {
   "cell_type": "code",
   "execution_count": null,
   "metadata": {},
   "outputs": [],
   "source": [
    "# Reset\n",
    "Color_Off='\\033[0m'       # Text Reset\n",
    "NC='\\033[0m'              # No Color\n",
    "\n",
    "# Regular Colors\n",
    "Black='\\033[0;30m'        # Black\n",
    "Red='\\033[0;31m'          # Red\n",
    "Green='\\033[0;32m'        # Green\n",
    "Yellow='\\033[0;33m'       # Yellow\n",
    "Blue='\\033[0;34m'         # Blue\n",
    "Purple='\\033[0;35m'       # Purple\n",
    "Cyan='\\033[0;36m'         # Cyan\n",
    "White='\\033[0;37m'        # White\n",
    "\n",
    "print(\"Calculating ... \")\n",
    "# nejdrive pridame zelenou barvu\n",
    "# pak \"text\", ktery chceme zobrazit\n",
    "# nakonec obnovime puvodni barvu - NC\n",
    "print(Green + \"Done\" + NC)"
   ]
  }
 ],
 "metadata": {
  "kernelspec": {
   "display_name": "Python 3",
   "language": "python",
   "name": "python3"
  },
  "language_info": {
   "codemirror_mode": {
    "name": "ipython",
    "version": 3
   },
   "file_extension": ".py",
   "mimetype": "text/x-python",
   "name": "python",
   "nbconvert_exporter": "python",
   "pygments_lexer": "ipython3",
   "version": "3.11.9"
  }
 },
 "nbformat": 4,
 "nbformat_minor": 2
}
